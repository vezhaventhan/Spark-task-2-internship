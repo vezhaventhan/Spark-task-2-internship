{
  "nbformat": 4,
  "nbformat_minor": 0,
  "metadata": {
    "kernelspec": {
      "display_name": "Python 3",
      "language": "python",
      "name": "python3"
    },
    "language_info": {
      "codemirror_mode": {
        "name": "ipython",
        "version": 3
      },
      "file_extension": ".py",
      "mimetype": "text/x-python",
      "name": "python",
      "nbconvert_exporter": "python",
      "pygments_lexer": "ipython3",
      "version": "3.8.3"
    },
    "colab": {
      "name": "Task-2 Prediction Using Unsupervised Learning.ipynb 2",
      "provenance": []
    }
  },
  "cells": [
    {
      "cell_type": "markdown",
      "metadata": {
        "id": "MRCbpXBUrTAK"
      },
      "source": [
        "VEZHAVENTHAN N"
      ]
    },
    {
      "cell_type": "markdown",
      "metadata": {
        "id": "KJrRfSV_rP62"
      },
      "source": [
        "## Task 2 Prediction using Unsupervised ML"
      ]
    },
    {
      "cell_type": "markdown",
      "metadata": {
        "id": "4nsWpGeRrP64"
      },
      "source": [
        "### Libraries"
      ]
    },
    {
      "cell_type": "code",
      "metadata": {
        "id": "XWACNCxJrP65"
      },
      "source": [
        "import numpy as np\n",
        "import pandas as pd\n",
        "import matplotlib.pyplot as plt"
      ],
      "execution_count": null,
      "outputs": []
    },
    {
      "cell_type": "markdown",
      "metadata": {
        "id": "AvT_EwrfrP66"
      },
      "source": [
        "### Load dataset"
      ]
    },
    {
      "cell_type": "code",
      "metadata": {
        "id": "Yb0J8pDMrP67"
      },
      "source": [
        "dataset=pd.read_csv('Iris.csv')"
      ],
      "execution_count": null,
      "outputs": []
    },
    {
      "cell_type": "code",
      "metadata": {
        "scrolled": true,
        "id": "AFwOns-TrP68",
        "outputId": "8bda57f5-d0d9-4534-aca5-4fdc527f690d"
      },
      "source": [
        "dataset.head()"
      ],
      "execution_count": null,
      "outputs": [
        {
          "output_type": "execute_result",
          "data": {
            "text/html": [
              "<div>\n",
              "<style scoped>\n",
              "    .dataframe tbody tr th:only-of-type {\n",
              "        vertical-align: middle;\n",
              "    }\n",
              "\n",
              "    .dataframe tbody tr th {\n",
              "        vertical-align: top;\n",
              "    }\n",
              "\n",
              "    .dataframe thead th {\n",
              "        text-align: right;\n",
              "    }\n",
              "</style>\n",
              "<table border=\"1\" class=\"dataframe\">\n",
              "  <thead>\n",
              "    <tr style=\"text-align: right;\">\n",
              "      <th></th>\n",
              "      <th>Id</th>\n",
              "      <th>SepalLengthCm</th>\n",
              "      <th>SepalWidthCm</th>\n",
              "      <th>PetalLengthCm</th>\n",
              "      <th>PetalWidthCm</th>\n",
              "      <th>Species</th>\n",
              "    </tr>\n",
              "  </thead>\n",
              "  <tbody>\n",
              "    <tr>\n",
              "      <th>0</th>\n",
              "      <td>1</td>\n",
              "      <td>5.1</td>\n",
              "      <td>3.5</td>\n",
              "      <td>1.4</td>\n",
              "      <td>0.2</td>\n",
              "      <td>Iris-setosa</td>\n",
              "    </tr>\n",
              "    <tr>\n",
              "      <th>1</th>\n",
              "      <td>2</td>\n",
              "      <td>4.9</td>\n",
              "      <td>3.0</td>\n",
              "      <td>1.4</td>\n",
              "      <td>0.2</td>\n",
              "      <td>Iris-setosa</td>\n",
              "    </tr>\n",
              "    <tr>\n",
              "      <th>2</th>\n",
              "      <td>3</td>\n",
              "      <td>4.7</td>\n",
              "      <td>3.2</td>\n",
              "      <td>1.3</td>\n",
              "      <td>0.2</td>\n",
              "      <td>Iris-setosa</td>\n",
              "    </tr>\n",
              "    <tr>\n",
              "      <th>3</th>\n",
              "      <td>4</td>\n",
              "      <td>4.6</td>\n",
              "      <td>3.1</td>\n",
              "      <td>1.5</td>\n",
              "      <td>0.2</td>\n",
              "      <td>Iris-setosa</td>\n",
              "    </tr>\n",
              "    <tr>\n",
              "      <th>4</th>\n",
              "      <td>5</td>\n",
              "      <td>5.0</td>\n",
              "      <td>3.6</td>\n",
              "      <td>1.4</td>\n",
              "      <td>0.2</td>\n",
              "      <td>Iris-setosa</td>\n",
              "    </tr>\n",
              "  </tbody>\n",
              "</table>\n",
              "</div>"
            ],
            "text/plain": [
              "   Id  SepalLengthCm  SepalWidthCm  PetalLengthCm  PetalWidthCm      Species\n",
              "0   1            5.1           3.5            1.4           0.2  Iris-setosa\n",
              "1   2            4.9           3.0            1.4           0.2  Iris-setosa\n",
              "2   3            4.7           3.2            1.3           0.2  Iris-setosa\n",
              "3   4            4.6           3.1            1.5           0.2  Iris-setosa\n",
              "4   5            5.0           3.6            1.4           0.2  Iris-setosa"
            ]
          },
          "metadata": {
            "tags": []
          },
          "execution_count": 3
        }
      ]
    },
    {
      "cell_type": "markdown",
      "metadata": {
        "id": "tbPhjpOzrP7A"
      },
      "source": [
        "### Basic information about data"
      ]
    },
    {
      "cell_type": "code",
      "metadata": {
        "id": "4phwK7PQrP7C",
        "outputId": "bff6f1fc-e8f9-4bbb-9b04-70eb9c88b698"
      },
      "source": [
        "dataset.info()"
      ],
      "execution_count": null,
      "outputs": [
        {
          "output_type": "stream",
          "text": [
            "<class 'pandas.core.frame.DataFrame'>\n",
            "RangeIndex: 150 entries, 0 to 149\n",
            "Data columns (total 6 columns):\n",
            " #   Column         Non-Null Count  Dtype  \n",
            "---  ------         --------------  -----  \n",
            " 0   Id             150 non-null    int64  \n",
            " 1   SepalLengthCm  150 non-null    float64\n",
            " 2   SepalWidthCm   150 non-null    float64\n",
            " 3   PetalLengthCm  150 non-null    float64\n",
            " 4   PetalWidthCm   150 non-null    float64\n",
            " 5   Species        150 non-null    object \n",
            "dtypes: float64(4), int64(1), object(1)\n",
            "memory usage: 7.2+ KB\n"
          ],
          "name": "stdout"
        }
      ]
    },
    {
      "cell_type": "code",
      "metadata": {
        "scrolled": true,
        "id": "rjI_Io0YrP7D",
        "outputId": "2a6668e7-3223-4eaf-c0ac-a73afc1a7bef"
      },
      "source": [
        "dataset.shape"
      ],
      "execution_count": null,
      "outputs": [
        {
          "output_type": "execute_result",
          "data": {
            "text/plain": [
              "(150, 6)"
            ]
          },
          "metadata": {
            "tags": []
          },
          "execution_count": 5
        }
      ]
    },
    {
      "cell_type": "markdown",
      "metadata": {
        "id": "8Lh_XpE_rP7F"
      },
      "source": [
        "### K-Means Clustering"
      ]
    },
    {
      "cell_type": "markdown",
      "metadata": {
        "id": "OihT1jBCrP7G"
      },
      "source": [
        "### what ?\n",
        "<li>Clustering-> The data is divided into<div style =\"color:Purple\">**several group with similar traits**</div>\n",
        "<li>The K-means algorithm defines the centroid of cluster as <div style =\"color:Purple\">**the mean value of the points within the cluster**</div>"
      ]
    },
    {
      "cell_type": "markdown",
      "metadata": {
        "id": "mn4uVdYkrP7H"
      },
      "source": [
        "<div style =\"color:red\">**How works?**</div>\n",
        "<li>select the centroid randomly\n",
        "<li>Find the distance\n",
        "<li>select the group and find average\n",
        "<li>After that centroid moved again unless untill when the point can't change\n",
        "    "
      ]
    },
    {
      "cell_type": "code",
      "metadata": {
        "id": "C8rRbo5brP7I"
      },
      "source": [
        "from sklearn.cluster import KMeans"
      ],
      "execution_count": null,
      "outputs": []
    },
    {
      "cell_type": "code",
      "metadata": {
        "scrolled": true,
        "id": "Fo-LrtB-rP7J",
        "outputId": "8daaac26-12c8-4770-90cd-1df4bc8cd4a4"
      },
      "source": [
        "x=dataset.iloc[:,[1,2,3,4]].values\n",
        "x[0:5]"
      ],
      "execution_count": null,
      "outputs": [
        {
          "output_type": "execute_result",
          "data": {
            "text/plain": [
              "array([[5.1, 3.5, 1.4, 0.2],\n",
              "       [4.9, 3. , 1.4, 0.2],\n",
              "       [4.7, 3.2, 1.3, 0.2],\n",
              "       [4.6, 3.1, 1.5, 0.2],\n",
              "       [5. , 3.6, 1.4, 0.2]])"
            ]
          },
          "metadata": {
            "tags": []
          },
          "execution_count": 7
        }
      ]
    },
    {
      "cell_type": "markdown",
      "metadata": {
        "id": "WX8CV_F8rP7L"
      },
      "source": [
        "### Choose K value\n"
      ]
    },
    {
      "cell_type": "markdown",
      "metadata": {
        "id": "LfCKUmDArP7L"
      },
      "source": [
        "<div style =\"color:red\">**Elbow Method?**</div>\n",
        "<li>Now I am run k=1 to 10 through looping when my k=1 my wcss is high\n",
        "<li>which is sudden decrease that is correct and best value of k"
      ]
    },
    {
      "cell_type": "markdown",
      "metadata": {
        "id": "kKdjs_dSrP7M"
      },
      "source": [
        "<div style =\"color:red\">**WCSS**</div>\n",
        "<li>within cluster sum of square\n",
        "<li>The sum of squares of the distances of each data point in all clusters to their respective centroids."
      ]
    },
    {
      "cell_type": "code",
      "metadata": {
        "id": "MqUmsUiCrP7N"
      },
      "source": [
        "wcss=[]\n",
        "for i in range(1,11):\n",
        "    kmeans=KMeans(n_clusters=i, init='k-means++',max_iter=300, n_init=10,random_state=0)\n",
        "    kmeans.fit(x)\n",
        "    wcss.append(kmeans.inertia_)"
      ],
      "execution_count": null,
      "outputs": []
    },
    {
      "cell_type": "code",
      "metadata": {
        "scrolled": true,
        "id": "ByajlTcJrP7O",
        "outputId": "cfd19ad1-7245-4c74-dfc2-c66bf4a01f03"
      },
      "source": [
        "wcss"
      ],
      "execution_count": null,
      "outputs": [
        {
          "output_type": "execute_result",
          "data": {
            "text/plain": [
              "[680.8243999999996,\n",
              " 152.36870647733915,\n",
              " 78.94084142614601,\n",
              " 57.34540931571815,\n",
              " 46.535582051282034,\n",
              " 38.93873974358975,\n",
              " 34.190687924796634,\n",
              " 29.90537429982511,\n",
              " 27.927882157034986,\n",
              " 25.955497086247092]"
            ]
          },
          "metadata": {
            "tags": []
          },
          "execution_count": 9
        }
      ]
    },
    {
      "cell_type": "markdown",
      "metadata": {
        "id": "Z9_wggy2rP7P"
      },
      "source": [
        "### Visualize the Elbow value"
      ]
    },
    {
      "cell_type": "code",
      "metadata": {
        "scrolled": true,
        "id": "Z-7wVnpYrP7Q",
        "outputId": "9ef7b853-0e98-494c-f657-85830a4e019e"
      },
      "source": [
        "plt.plot(range(1,11),wcss)\n",
        "plt.xlabel('No of Clusters')\n",
        "plt.ylabel('WCSS')\n",
        "plt.title('Elbow Method')\n",
        "\n",
        "plt.show()"
      ],
      "execution_count": null,
      "outputs": [
        {
          "output_type": "display_data",
          "data": {
            "image/png": "[encoded data removed]",
            "text/plain": [
              "<Figure size 432x288 with 1 Axes>"
            ]
          },
          "metadata": {
            "tags": [],
            "needs_background": "light"
          }
        }
      ]
    },
    {
      "cell_type": "markdown",
      "metadata": {
        "id": "7o9Nbq-krP7R"
      },
      "source": [
        "### Fit the model"
      ]
    },
    {
      "cell_type": "code",
      "metadata": {
        "id": "if7WeG61rP7S",
        "outputId": "270ec094-1d7a-412a-b8bd-add0e9df696e"
      },
      "source": [
        "kmeans=KMeans(n_clusters=3,init='k-means++',max_iter=300,n_init=10,random_state=0)\n",
        "kmeans"
      ],
      "execution_count": null,
      "outputs": [
        {
          "output_type": "execute_result",
          "data": {
            "text/plain": [
              "KMeans(n_clusters=3, random_state=0)"
            ]
          },
          "metadata": {
            "tags": []
          },
          "execution_count": 11
        }
      ]
    },
    {
      "cell_type": "markdown",
      "metadata": {
        "id": "tbzKoYKIrP7T"
      },
      "source": [
        "### Predict"
      ]
    },
    {
      "cell_type": "code",
      "metadata": {
        "id": "zuEK88u0rP7U"
      },
      "source": [
        "y_pred=kmeans.fit_predict(x)"
      ],
      "execution_count": null,
      "outputs": []
    },
    {
      "cell_type": "code",
      "metadata": {
        "scrolled": true,
        "id": "-tnn3DBVrP7U",
        "outputId": "9e78b370-69a0-4d6c-dca8-4f0e46653de3"
      },
      "source": [
        "y_pred"
      ],
      "execution_count": null,
      "outputs": [
        {
          "output_type": "execute_result",
          "data": {
            "text/plain": [
              "array([1, 1, 1, 1, 1, 1, 1, 1, 1, 1, 1, 1, 1, 1, 1, 1, 1, 1, 1, 1, 1, 1,\n",
              "       1, 1, 1, 1, 1, 1, 1, 1, 1, 1, 1, 1, 1, 1, 1, 1, 1, 1, 1, 1, 1, 1,\n",
              "       1, 1, 1, 1, 1, 1, 2, 2, 0, 2, 2, 2, 2, 2, 2, 2, 2, 2, 2, 2, 2, 2,\n",
              "       2, 2, 2, 2, 2, 2, 2, 2, 2, 2, 2, 0, 2, 2, 2, 2, 2, 2, 2, 2, 2, 2,\n",
              "       2, 2, 2, 2, 2, 2, 2, 2, 2, 2, 2, 2, 0, 2, 0, 0, 0, 0, 2, 0, 0, 0,\n",
              "       0, 0, 0, 2, 2, 0, 0, 0, 0, 2, 0, 2, 0, 2, 0, 0, 2, 2, 0, 0, 0, 0,\n",
              "       0, 2, 0, 0, 0, 0, 2, 0, 0, 0, 2, 0, 0, 0, 2, 0, 0, 2])"
            ]
          },
          "metadata": {
            "tags": []
          },
          "execution_count": 13
        }
      ]
    },
    {
      "cell_type": "code",
      "metadata": {
        "id": "qRmFhx0srP7V",
        "outputId": "704dc055-8e4f-49b2-fa88-53e0f9827551"
      },
      "source": [
        "kmeans.cluster_centers_"
      ],
      "execution_count": null,
      "outputs": [
        {
          "output_type": "execute_result",
          "data": {
            "text/plain": [
              "array([[6.85      , 3.07368421, 5.74210526, 2.07105263],\n",
              "       [5.006     , 3.418     , 1.464     , 0.244     ],\n",
              "       [5.9016129 , 2.7483871 , 4.39354839, 1.43387097]])"
            ]
          },
          "metadata": {
            "tags": []
          },
          "execution_count": 14
        }
      ]
    },
    {
      "cell_type": "markdown",
      "metadata": {
        "id": "x0Oa88djrP7W"
      },
      "source": [
        "### Visualize the cluster"
      ]
    },
    {
      "cell_type": "code",
      "metadata": {
        "id": "UeZprbAMrP7X",
        "outputId": "5719a49a-b389-48cc-db28-fe2153d5d7b9"
      },
      "source": [
        "plt.scatter(x[y_pred == 0, 0], x[y_pred == 0, 1],s=50, c = 'purple', label = 'Iris-setosa')\n",
        "plt.scatter(x[y_pred == 1, 0], x[y_pred == 1, 1],s = 50, c = 'blue', label = 'Iris-versicolour')\n",
        "plt.scatter(x[y_pred == 2, 0], x[y_pred == 2, 1],s = 50, c = 'green', label = 'Iris-virginica')\n",
        "plt.scatter(kmeans.cluster_centers_[:, 0], kmeans.cluster_centers_[:,1],s = 60, c = 'red', label = 'Centroids')\n",
        "plt.legend(loc='upper right')"
      ],
      "execution_count": null,
      "outputs": [
        {
          "output_type": "execute_result",
          "data": {
            "text/plain": [
              "<matplotlib.legend.Legend at 0x29e7bf53640>"
            ]
          },
          "metadata": {
            "tags": []
          },
          "execution_count": 15
        },
        {
          "output_type": "display_data",
          "data": {
            "image/png": "[encoded data removed]",
            "text/plain": [
              "<Figure size 432x288 with 1 Axes>"
            ]
          },
          "metadata": {
            "tags": [],
            "needs_background": "light"
          }
        }
      ]
    }
  ]
}